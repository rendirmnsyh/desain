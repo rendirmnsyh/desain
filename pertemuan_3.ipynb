{
  "nbformat": 4,
  "nbformat_minor": 0,
  "metadata": {
    "colab": {
      "provenance": [],
      "authorship_tag": "ABX9TyOqn5GJ18hMfYKjB/HkCgYW",
      "include_colab_link": true
    },
    "kernelspec": {
      "name": "python3",
      "display_name": "Python 3"
    },
    "language_info": {
      "name": "python"
    }
  },
  "cells": [
    {
      "cell_type": "markdown",
      "metadata": {
        "id": "view-in-github",
        "colab_type": "text"
      },
      "source": [
        "<a href=\"https://colab.research.google.com/github/rendirmnsyh/desain/blob/main/pertemuan_3.ipynb\" target=\"_parent\"><img src=\"https://colab.research.google.com/assets/colab-badge.svg\" alt=\"Open In Colab\"/></a>"
      ]
    },
    {
      "cell_type": "code",
      "execution_count": 54,
      "metadata": {
        "colab": {
          "base_uri": "https://localhost:8080/"
        },
        "id": "VYsYWiWr0-cV",
        "outputId": "bde509b7-0774-409f-d535-abb9e36b1f25"
      },
      "outputs": [
        {
          "output_type": "stream",
          "name": "stdout",
          "text": [
            "['john', 'Toronto', True]\n"
          ]
        }
      ],
      "source": [
        "aList = [\"john\",\"Toronto\",True]\n",
        "print(aList)"
      ]
    },
    {
      "cell_type": "code",
      "source": [
        "import datetime\n",
        "x = datetime.datetime.now()\n",
        "\n",
        "mahasiswa = [\"Rendi\",\"2022071074\",\"Informatika\",\"Desain Analis Aloritma\",\"Universitas Pembangunan Jaya\"]\n",
        "print(mahasiswa)\n",
        "print(x)\n",
        "\n"
      ],
      "metadata": {
        "colab": {
          "base_uri": "https://localhost:8080/"
        },
        "id": "1u_79LaE33rJ",
        "outputId": "3d71206e-9db1-4964-fb37-992034bd722b"
      },
      "execution_count": 56,
      "outputs": [
        {
          "output_type": "stream",
          "name": "stdout",
          "text": [
            "['Rendi', '2022071074', 'Informatika', 'Desain Analis Aloritma', 'Universitas Pembangunan Jaya']\n",
            "2023-09-11 07:12:33.381231\n"
          ]
        }
      ]
    },
    {
      "cell_type": "code",
      "source": [
        "bin_colors=['Red','Green','Blue','Yellow']\n",
        "bin_colors[0:3]\n"
      ],
      "metadata": {
        "colab": {
          "base_uri": "https://localhost:8080/"
        },
        "id": "sBZ2MRbG9VX_",
        "outputId": "e51b4623-682a-49a3-f08a-55f369b00a91"
      },
      "execution_count": 43,
      "outputs": [
        {
          "output_type": "execute_result",
          "data": {
            "text/plain": [
              "['Red', 'Green', 'Blue']"
            ]
          },
          "metadata": {},
          "execution_count": 43
        }
      ]
    },
    {
      "cell_type": "code",
      "source": [
        "bin_colors=['Red','Green','blue','Yellow']\n",
        "for aColor in bin_colors:\n",
        "  print(aColor + \"square\")\n",
        ""
      ],
      "metadata": {
        "colab": {
          "base_uri": "https://localhost:8080/"
        },
        "id": "2mOQDe6BBGE_",
        "outputId": "ab80bc5f-cb49-4a59-eb27-c6d634c3bdd2"
      },
      "execution_count": 80,
      "outputs": [
        {
          "output_type": "stream",
          "name": "stdout",
          "text": [
            "Redsquare\n",
            "Greensquare\n",
            "bluesquare\n",
            "Yellowsquare\n"
          ]
        }
      ]
    },
    {
      "cell_type": "code",
      "source": [
        "List_mahasiswa=[\"Rendi\",\"2022071074\",\"Informatika\",\"Desain Analis Aloritma\",\"Universitas Pembangunan Jaya\"]\n",
        "List_mahasiswa[0:2]"
      ],
      "metadata": {
        "colab": {
          "base_uri": "https://localhost:8080/"
        },
        "id": "uY6z1UEREglH",
        "outputId": "144237f3-6bb0-4a35-ddc0-2947c34cd0d6"
      },
      "execution_count": 87,
      "outputs": [
        {
          "output_type": "execute_result",
          "data": {
            "text/plain": [
              "['Rendi', '2022071074']"
            ]
          },
          "metadata": {},
          "execution_count": 87
        }
      ]
    }
  ]
}