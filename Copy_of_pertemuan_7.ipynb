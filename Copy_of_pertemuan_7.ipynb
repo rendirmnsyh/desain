{
  "nbformat": 4,
  "nbformat_minor": 0,
  "metadata": {
    "colab": {
      "provenance": [],
      "authorship_tag": "ABX9TyNk1Zk4pm8sBYrsR+lPZv30",
      "include_colab_link": true
    },
    "kernelspec": {
      "name": "python3",
      "display_name": "Python 3"
    },
    "language_info": {
      "name": "python"
    }
  },
  "cells": [
    {
      "cell_type": "markdown",
      "metadata": {
        "id": "view-in-github",
        "colab_type": "text"
      },
      "source": [
        "<a href=\"https://colab.research.google.com/github/rendirmnsyh/desain/blob/main/Copy_of_pertemuan_7.ipynb\" target=\"_parent\"><img src=\"https://colab.research.google.com/assets/colab-badge.svg\" alt=\"Open In Colab\"/></a>"
      ]
    },
    {
      "cell_type": "code",
      "execution_count": null,
      "metadata": {
        "id": "UWDMOzMBFGB8",
        "colab": {
          "base_uri": "https://localhost:8080/"
        },
        "outputId": "eaaaf7ce-8615-4684-fc63-4d12fd11da65"
      },
      "outputs": [
        {
          "output_type": "stream",
          "name": "stdout",
          "text": [
            "1434428\n",
            "1434428\n",
            "2126612\n",
            "2126612\n"
          ]
        }
      ],
      "source": [
        "\n",
        "mat1 = [\n",
        "    [2, 4],\n",
        "    [3, 1],\n",
        "]\n",
        "\n",
        "mat2 = [\n",
        "    [7, 2],\n",
        "    [5, 6],\n",
        "]\n",
        "\n",
        "mat3 = []\n",
        "\n",
        "for x in range(0, len(mat1)):\n",
        "  row =[]\n",
        "  for y in range (0, len(mat1[0])):\n",
        "    total = 0\n",
        "    for z in range(0, len(mat1)):\n",
        "      total = total + (mat1[x][z]*mat2[z][y])\n",
        "      row.append(total)\n",
        "    mat3.append(row)\n",
        "\n",
        "for x in range(0, len(mat3)):\n",
        "  for y in range(0, len(mat3[0])):\n",
        "    print (mat3[x][y], end='')\n",
        "  print ()"
      ]
    },
    {
      "cell_type": "code",
      "source": [
        "def faktorial(n):\n",
        "  if (n==1):\n",
        "    return n\n",
        "  return faktorial(n-1)*n\n",
        "\n",
        "n = int(input(\"Masukan nilai n: \")) #input nilai\n",
        "print(f\"Hasil dari {n}!\", faktorial(n)) #output nilai"
      ],
      "metadata": {
        "colab": {
          "base_uri": "https://localhost:8080/"
        },
        "id": "mmJqzuK5MDXV",
        "outputId": "66c40d52-08d1-412c-97d4-906aea1ed188"
      },
      "execution_count": null,
      "outputs": [
        {
          "output_type": "stream",
          "name": "stdout",
          "text": [
            "Masukan nilai n: 4\n",
            "Hasil dari 4! 24\n"
          ]
        }
      ]
    },
    {
      "cell_type": "code",
      "source": [
        "def nilai_maksimal(deret_bilangan):\n",
        "  nilai_terbesar = deret_bilangan[0]\n",
        "\n",
        "  for nilai in deret_bilangan:\n",
        "    if nilai > nilai_terbesar:\n",
        "      nilai_terbesar = nilai\n",
        "\n",
        "  return nilai_terbesar"
      ],
      "metadata": {
        "id": "9Fomd7tSMtKN"
      },
      "execution_count": null,
      "outputs": []
    },
    {
      "cell_type": "code",
      "source": [
        "a = [3, 20, 100, -35, 50]\n",
        "\n",
        "print(a)\n",
        "print('Nilai terbesar:', nilai_maksimal(a))"
      ],
      "metadata": {
        "colab": {
          "base_uri": "https://localhost:8080/"
        },
        "id": "iWGVOw0ENO9E",
        "outputId": "2889a6d6-dabf-4b4f-eebb-793264a15b9b"
      },
      "execution_count": null,
      "outputs": [
        {
          "output_type": "stream",
          "name": "stdout",
          "text": [
            "[3, 20, 100, -35, 50]\n",
            "Nilai terbesar: 100\n"
          ]
        }
      ]
    },
    {
      "cell_type": "code",
      "source": [
        "def nilai_minimum(deret_bilangan):\n",
        "  nilai_terkecil = deret_bilangan[0]\n",
        "\n",
        "  for nilai in deret_bilangan:\n",
        "    if nilai < nilai_terkecil:\n",
        "      nilai_terkecil = nilai\n",
        "\n",
        "  return nilai_terkecil"
      ],
      "metadata": {
        "id": "vC4ogRdcSs_0"
      },
      "execution_count": null,
      "outputs": []
    },
    {
      "cell_type": "code",
      "source": [
        "a = [3, 20, 100, -35, 50]\n",
        "\n",
        "print(a)\n",
        "print('nilai_terkecil:', nilai_minimum(a))"
      ],
      "metadata": {
        "colab": {
          "base_uri": "https://localhost:8080/"
        },
        "id": "ZDVkl9xoS5pc",
        "outputId": "68947a25-0a56-442c-920e-d43e479651de"
      },
      "execution_count": null,
      "outputs": [
        {
          "output_type": "stream",
          "name": "stdout",
          "text": [
            "[3, 20, 100, -35, 50]\n",
            "nilai_terkecil: -35\n"
          ]
        }
      ]
    },
    {
      "cell_type": "code",
      "source": [
        "def sequentialSearch(alist, item):\n",
        "  pos = 0\n",
        "  found = False\n",
        "\n",
        "  while pos < len (alist) and not found:\n",
        "    if alist[pos]== item:\n",
        "      found = True\n",
        "    else:\n",
        "      pos = pos+1\n",
        "  return found\n",
        "\n",
        "testlist = [1, 2, 32, 8, 17, 19, 42, 13, 0]\n",
        "print(sequentialSearch(testlist, 3))\n",
        "print(sequentialSearch(testlist, 2))"
      ],
      "metadata": {
        "colab": {
          "base_uri": "https://localhost:8080/"
        },
        "id": "fZGEQSA5Nmx0",
        "outputId": "3f9dda5c-feab-4b74-b77c-b3240a451253"
      },
      "execution_count": null,
      "outputs": [
        {
          "output_type": "stream",
          "name": "stdout",
          "text": [
            "False\n",
            "True\n"
          ]
        }
      ]
    },
    {
      "cell_type": "code",
      "source": [
        "def bubbleSort(alist):\n",
        "  for passnum in range(len(alist)-1,0,1):\n",
        "    for i in range(passnum):\n",
        "      if alist[i]>alist[i+1]:\n",
        "         temp = alist[i]\n",
        "         alist[i] = alist[i+1]\n",
        "         alist[i+1] = temp\n",
        "\n",
        "alist = [54, 26, 93, 17, 77, 31, 44, 55, 20]\n",
        "bubbleSort(alist)\n",
        "print(alist)"
      ],
      "metadata": {
        "colab": {
          "base_uri": "https://localhost:8080/"
        },
        "id": "P01PVkZtOgL2",
        "outputId": "ef9c2df0-a317-438f-d956-8f5302160e0c"
      },
      "execution_count": null,
      "outputs": [
        {
          "output_type": "stream",
          "name": "stdout",
          "text": [
            "[54, 26, 93, 17, 77, 31, 44, 55, 20]\n"
          ]
        }
      ]
    },
    {
      "cell_type": "code",
      "source": [
        "#uji keprimaan\n",
        "x = int(input('Input satu angka bulat: '))\n",
        "\n",
        "angka_prima = True\n",
        "if ((x == 0) or (x == 1)):\n",
        "  angka_prima = False\n",
        "else:\n",
        "  for i in range(2,(x//2)):\n",
        "    if ((x % i) == 0):\n",
        "      angka_prima = False\n",
        "      break\n",
        "\n",
        "if(angka_prima):\n",
        "  print(x, 'adalah angka prima')\n",
        "else:\n",
        "  print(x, 'bukan angka prima')"
      ],
      "metadata": {
        "colab": {
          "base_uri": "https://localhost:8080/"
        },
        "id": "05Y8CNzeQEM8",
        "outputId": "657ad629-9ff7-4c65-9242-6407d20765a1"
      },
      "execution_count": null,
      "outputs": [
        {
          "output_type": "stream",
          "name": "stdout",
          "text": [
            "Input satu angka bulat: 7\n",
            "7 adalah angka prima\n"
          ]
        }
      ]
    },
    {
      "cell_type": "code",
      "source": [
        "from os import X_OK\n",
        "def polynomial_py(a, x):\n",
        "  result = 0\n",
        "  # for every n in 0..len(a)-1\n",
        "  for n, a_n in enumerate(a):\n",
        "    # compute x^n\n",
        "    x_power_n = 1\n",
        "    # add a_n * x^n to the final result\n",
        "    result += a_n * x_power_n\n",
        "    return result"
      ],
      "metadata": {
        "id": "1pHtbbEVTvR1"
      },
      "execution_count": null,
      "outputs": []
    },
    {
      "cell_type": "code",
      "source": [
        "a = [1,2,0,3] # coefficients\n",
        "x = 1.5\n",
        "print(polynomial_py(a,x)) # 14.125"
      ],
      "metadata": {
        "colab": {
          "base_uri": "https://localhost:8080/"
        },
        "id": "9u_TV6uhUs0k",
        "outputId": "58a7df68-b982-4acf-a89e-54e4919c25ab"
      },
      "execution_count": null,
      "outputs": [
        {
          "output_type": "stream",
          "name": "stdout",
          "text": [
            "1\n"
          ]
        }
      ]
    },
    {
      "cell_type": "code",
      "source": [
        "# Get matching substrings in string\n",
        "# initializing string\n",
        "test_str = \"GFG is good website\";\n",
        "\n",
        "# initializing potential substring\n",
        "test_list = [\"GFG\", \"site\", \"CS\", \"Geeks\", \"Tutorial\"]\n",
        "\n",
        "# printing original string\n",
        "print(\"The original string is : \" + test_str)\n",
        "\n",
        "# printing potential strings list\n",
        "print(\"The original list is : \" + str(test_list))\n",
        "\n",
        "# using list comprehension\n",
        "# Get matching substrings in string\n",
        "res = [sub for sub in test_list if sub in test_str]\n",
        "\n",
        "# printing result\n",
        "print(\"The list of found substrings ;\" + str(res))"
      ],
      "metadata": {
        "colab": {
          "base_uri": "https://localhost:8080/"
        },
        "id": "PmVsGY5CVRYU",
        "outputId": "58dc6ac9-163e-4bc0-8026-7f4cfea1870e"
      },
      "execution_count": null,
      "outputs": [
        {
          "output_type": "stream",
          "name": "stdout",
          "text": [
            "The original string is : GFG is good website\n",
            "The original list is : ['GFG', 'site', 'CS', 'Geeks', 'Tutorial']\n",
            "The list of found substrings ;['GFG', 'site']\n"
          ]
        }
      ]
    },
    {
      "cell_type": "code",
      "source": [
        "from math import sqrt\n",
        "from random import randint\n",
        "titik = []\n",
        "n = int(input('Masukan jumlah titik yang ingin anda cari jaraknya: '))\n",
        "for i in range (0,n):\n",
        "  titik.append([randint(0,100), randint(0,100)])\n",
        "print('Titik:\\n',titik)\n",
        "def hitungjarak(lis):\n",
        "  lisjarak = []\n",
        "  for i in range (0,len(lis)-1):\n",
        "      for j in range (i+1,len(lis)):\n",
        "        jarak = sqrt((lis[i][0]-lis[j][0])**2 + (lis[i][1]-lis[j][1])**2)\n",
        "        lisjarak.append(jarak)\n",
        "        print('Titik: ',lis[i], 'Titik: ', lis[j],':',jarak)\n",
        "        return min(lisjarak)\n",
        "print('Jarak terdekat:\\n',hitungjarak(titik))"
      ],
      "metadata": {
        "colab": {
          "base_uri": "https://localhost:8080/"
        },
        "id": "ixAuleaubWYT",
        "outputId": "b7494ae2-1e21-4302-9d70-01a1ffc72403"
      },
      "execution_count": null,
      "outputs": [
        {
          "output_type": "stream",
          "name": "stdout",
          "text": [
            "Masukan jumlah titik yang ingin anda cari jaraknya: 3\n",
            "Titik:\n",
            " [[51, 15], [34, 40], [1, 39]]\n",
            "Titik:  [51, 15] Titik:  [34, 40] : 30.23243291566195\n",
            "Jarak terdekat:\n",
            " 30.23243291566195\n"
          ]
        }
      ]
    },
    {
      "cell_type": "code",
      "source": [
        "#Find maximum value in Linear search\n",
        "def find_maximum(lst):\n",
        "  max = None\n",
        "  for el in lst:\n",
        "    if max == None or el > max:\n",
        "      max = el\n",
        "  return max\n",
        "test_scores = [88, 93, 75, 100, 80, 67, 71, 92, 90, 83]\n",
        "print(find_maximum(test_scores)) # returns 100"
      ],
      "metadata": {
        "colab": {
          "base_uri": "https://localhost:8080/"
        },
        "id": "DS50mpPhdrTL",
        "outputId": "76d72216-2170-4833-e16a-b112458bbb37"
      },
      "execution_count": null,
      "outputs": [
        {
          "output_type": "stream",
          "name": "stdout",
          "text": [
            "100\n"
          ]
        }
      ]
    },
    {
      "cell_type": "code",
      "source": [
        "def bubbleSort(alist):\n",
        "  for passnum in range(len(alist)-1,0,1):\n",
        "    for i in range(passnum):\n",
        "      if alist[i]>alist[i+1]:\n",
        "        temp = alist[i]\n",
        "        alist[i]= alist[i+1]\n",
        "        alist[i+1] = temp\n",
        "\n",
        "alist = [54, 26, 93, 17, 77, 31, 44, 55, 20]\n",
        "bubbleSort(alist)\n",
        "print(alist)"
      ],
      "metadata": {
        "colab": {
          "base_uri": "https://localhost:8080/"
        },
        "id": "_8TEYFpOecwT",
        "outputId": "c177e442-b759-429f-fa68-d982e30b7a88"
      },
      "execution_count": null,
      "outputs": [
        {
          "output_type": "stream",
          "name": "stdout",
          "text": [
            "[54, 26, 93, 17, 77, 31, 44, 55, 20]\n"
          ]
        }
      ]
    },
    {
      "cell_type": "code",
      "source": [
        "def Sequential_Search(dlist, item):\n",
        "\n",
        "  pos = 0\n",
        "  found = False\n",
        "\n",
        "  while pos < len(dlist) and not found:\n",
        "    if dlist[pos] == item:\n",
        "      found = True\n",
        "    else:\n",
        "      pos = pos + 1\n",
        "\n",
        "  return found, pos\n",
        "\n"
      ],
      "metadata": {
        "id": "Rr67Wxn2fNrU"
      },
      "execution_count": null,
      "outputs": []
    },
    {
      "cell_type": "code",
      "source": [
        "print(Sequential_Search([11,23,58,31,56,77,43,12,65,19],31))"
      ],
      "metadata": {
        "colab": {
          "base_uri": "https://localhost:8080/"
        },
        "id": "26Aj26APg3AL",
        "outputId": "d4777c6c-5df6-464e-9eab-d996295e7d7f"
      },
      "execution_count": null,
      "outputs": [
        {
          "output_type": "stream",
          "name": "stdout",
          "text": [
            "(True, 3)\n"
          ]
        }
      ]
    },
    {
      "cell_type": "code",
      "source": [
        "bilangan = int(input('Masukan bilangan: '))\n",
        "pangkat = int(input('Masukan pangkat: '))\n",
        "\n",
        "def hitung_pangkat(bilangan, pangkat):\n",
        "  if pangkat > 1:\n",
        "    return bilangan * hitung_pangkat(bilangan, pangkat - 1)\n",
        "\n",
        "  return bilangan\n",
        "\n",
        "hasil = hitung_pangkat(bilangan, pangkat)\n",
        "print(f'Hasil = {hasil}')"
      ],
      "metadata": {
        "colab": {
          "base_uri": "https://localhost:8080/"
        },
        "id": "rK9rtSQchr2j",
        "outputId": "6f43818a-77f0-4003-cf4e-513d72e00fba"
      },
      "execution_count": null,
      "outputs": [
        {
          "output_type": "stream",
          "name": "stdout",
          "text": [
            "Masukan bilangan: 4\n",
            "Masukan pangkat: 6\n",
            "Hasil = 4096\n"
          ]
        }
      ]
    },
    {
      "cell_type": "code",
      "source": [
        "n = int(input('Masukan nilai n: '))\n",
        "\n",
        "def hitung_faktorial (n):\n",
        "  if n > 2:\n",
        "    return n * hitung_faktorial(n - 1)\n",
        "\n",
        "  return 2\n",
        "\n",
        "faktorial = hitung_faktorial(n)\n",
        "print(f'{n}! = {faktorial}')"
      ],
      "metadata": {
        "colab": {
          "base_uri": "https://localhost:8080/"
        },
        "id": "AMWf__woiaVD",
        "outputId": "00dfe981-5bce-43e5-d2af-3b2395da1d56"
      },
      "execution_count": null,
      "outputs": [
        {
          "output_type": "stream",
          "name": "stdout",
          "text": [
            "Masukan nilai n: 5\n",
            "5! = 120\n"
          ]
        }
      ]
    },
    {
      "cell_type": "code",
      "source": [
        "def string_match(string, sub_str):\n",
        "  # Brute force string matching\n",
        "  for i in range(len(string)-len(sub_str)+1):\n",
        "    index = i # index point to the 1 three characters to be compared\n",
        "    for j in range(len(sub_str)):\n",
        "     if string[index] == sub_str[j]:\n",
        "      index += 1\n",
        "    else:\n",
        "      break\n",
        "      if index-i == len(sub_str):\n",
        "        return i\n",
        "  return -1\n",
        "\n",
        "if __name__== \"__main__\":\n",
        " print(string_match(\"adbcbdc\", \"bdc\"))"
      ],
      "metadata": {
        "colab": {
          "base_uri": "https://localhost:8080/"
        },
        "id": "GSVWVwUEjElq",
        "outputId": "5ee5bf95-19ed-4bf7-f78e-3884b44f42fa"
      },
      "execution_count": null,
      "outputs": [
        {
          "output_type": "stream",
          "name": "stdout",
          "text": [
            "-1\n"
          ]
        }
      ]
    },
    {
      "cell_type": "code",
      "source": [
        "import random\n",
        "from itertools import permutations\n",
        "alltours = permutations\n",
        "\n",
        "def distance_tour(aTour):\n",
        "  return sum(distance_points (aTour [i - 1], aTour[i])\n",
        "      for i in range(len (aTour)))\n",
        "acity = complex\n",
        "def distance_points(first, second):\n",
        "  return abs(first - second)\n",
        "\n",
        "def generate_cities (number_of_cities):\n",
        "  seed=111;width=500; height=300\n",
        "  random. seed((number_of_cities, seed))\n",
        "  return frozenset (acity(random.randint (1, width), random. randint (1, height))\n",
        "      for c in range (number_of_cities))"
      ],
      "metadata": {
        "id": "FrURM-kZluWq"
      },
      "execution_count": 97,
      "outputs": []
    }
  ]
}