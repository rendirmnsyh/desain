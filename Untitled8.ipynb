{
  "nbformat": 4,
  "nbformat_minor": 0,
  "metadata": {
    "colab": {
      "provenance": [],
      "include_colab_link": true
    },
    "kernelspec": {
      "name": "python3",
      "display_name": "Python 3"
    },
    "language_info": {
      "name": "python"
    }
  },
  "cells": [
    {
      "cell_type": "markdown",
      "metadata": {
        "id": "view-in-github",
        "colab_type": "text"
      },
      "source": [
        "<a href=\"https://colab.research.google.com/github/rendirmnsyh/desain/blob/main/Untitled8.ipynb\" target=\"_parent\"><img src=\"https://colab.research.google.com/assets/colab-badge.svg\" alt=\"Open In Colab\"/></a>"
      ]
    },
    {
      "cell_type": "code",
      "execution_count": null,
      "metadata": {
        "colab": {
          "base_uri": "https://localhost:8080/"
        },
        "id": "YQ73HgFv3mkK",
        "outputId": "94785e7b-dfe3-4e81-e777-9ada76014fd3"
      },
      "outputs": [
        {
          "output_type": "stream",
          "name": "stdout",
          "text": [
            "2 1\n"
          ]
        }
      ],
      "source": [
        "#qqwa swap funcion\n",
        "var1 = 1\n",
        "var2 = 2\n",
        "var1,var2 = var2,var1\n",
        "\n",
        "print(var1,var2)"
      ]
    },
    {
      "cell_type": "code",
      "source": [
        "# Latihan swap funcion\n",
        "var1 = 1\n",
        "var2 = 2\n",
        "var3 = 3\n",
        "var1,var2,var3 = var3,var2,var1\n",
        "\n",
        "print(var1,var2)"
      ],
      "metadata": {
        "colab": {
          "base_uri": "https://localhost:8080/"
        },
        "id": "raC-Z3e9Bf3A",
        "outputId": "ce0d01eb-f52a-465e-f959-07cd2a4f88bc"
      },
      "execution_count": null,
      "outputs": [
        {
          "output_type": "stream",
          "name": "stdout",
          "text": [
            "3 2\n"
          ]
        }
      ]
    },
    {
      "cell_type": "code",
      "source": [
        "list = [u25,21,22,24,23,27,26]\n",
        "\n",
        "lastElementIndex = len(list)-1\n",
        "print(0,list)\n",
        "for idx in range(lastElementIndex):\n",
        "  if list[idx]>list[idx+1]:\n",
        "    list[idx],list[idx+1]=list[idx+1],list[idx]\n",
        "    print(idx+1,list)"
      ],
      "metadata": {
        "colab": {
          "base_uri": "https://localhost:8080/"
        },
        "id": "wD1lUV6IBwQg",
        "outputId": "bbcacc35-65a2-4e3a-bcea-6fa243c0c98e"
      },
      "execution_count": null,
      "outputs": [
        {
          "output_type": "stream",
          "name": "stdout",
          "text": [
            "0 [25, 21, 22, 24, 23, 27, 26]\n",
            "1 [21, 25, 22, 24, 23, 27, 26]\n",
            "2 [21, 22, 25, 24, 23, 27, 26]\n",
            "3 [21, 22, 24, 25, 23, 27, 26]\n",
            "4 [21, 22, 24, 23, 25, 27, 26]\n",
            "6 [21, 22, 24, 23, 25, 26, 27]\n"
          ]
        }
      ]
    },
    {
      "cell_type": "code",
      "source": [
        "list = [25,21,22,24,23,27,26]\n",
        "\n",
        "def BubbleSort(list):\n",
        "  lastElementIndex = len(list)-1\n",
        "  for passNo in range(lastElementIndex,0,-1):\n",
        "    for idx in range(passNo):\n",
        "      if list[idx]>list[idx+1]:\n",
        "        list[idx],list[idx+1]=list[idx+1],list[idx]\n",
        "  return list"
      ],
      "metadata": {
        "id": "wjMvjfjaCmEa"
      },
      "execution_count": null,
      "outputs": []
    },
    {
      "cell_type": "code",
      "source": [
        "def InsertionSort(list):\n",
        "  for i in range(1, len(list)):\n",
        "    j - i-1\n",
        "    next = list[1]\n",
        "\n",
        "    while (list[j] > next) and (j >= 0):\n",
        "      list[j+1] = list[j]\n",
        "      j=j-1\n",
        "    list[j+1] = next\n",
        "  return list"
      ],
      "metadata": {
        "id": "YRL0gXFDDPhk"
      },
      "execution_count": null,
      "outputs": []
    },
    {
      "cell_type": "code",
      "source": [
        "def InsertionSort(list):\n",
        "  for fill_slot in range(len(list) - 1,0,-1):\n",
        "    max_index = 0\n",
        "    next = list[1]\n",
        "\n",
        "    while (list[j] > next) and (j >= 0):\n",
        "      list[j+1] = list[j]\n",
        "      j=j-1\n",
        "    list[j+1] = next\n",
        "  return list"
      ],
      "metadata": {
        "id": "P4-3gD6iEg0o"
      },
      "execution_count": null,
      "outputs": []
    },
    {
      "cell_type": "code",
      "source": [
        "def BinarySearch(list, item):\n",
        "  first = 0\n",
        "  last = len(list)-1\n",
        "  found = False\n",
        "\n",
        "  while first<=last and not found:\n",
        "    midpoint = (first + last)//2\n",
        "    if list[midpoint] == item:\n",
        "      found = True\n",
        "  else:\n",
        "    if item < list[midpoint]:\n",
        "      last = midpoint-1\n",
        "    else:\n",
        "      first = midpoint+1\n",
        "  return found"
      ],
      "metadata": {
        "id": "io97VN77Ezy9"
      },
      "execution_count": null,
      "outputs": []
    },
    {
      "cell_type": "code",
      "source": [
        "def inPolsearch(list, x):\n",
        "  idx0 = 0\n",
        "  idxn = (len(list)-1)\n",
        "  found = False\n",
        "  while idx0 <= idxn and x >= list[idx0] and x <= list [idxn]:\n",
        "\n",
        "\n",
        "    if list[mid] == x:\n",
        "      found = True\n",
        "      return found\n",
        "\n",
        "    if list[mid] < x:\n",
        "      idx0 + mid +1\n",
        "  return found"
      ],
      "metadata": {
        "id": "OmJLDwUZFtYs"
      },
      "execution_count": null,
      "outputs": []
    }
  ]
}