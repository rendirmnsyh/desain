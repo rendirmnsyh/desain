{
  "nbformat": 4,
  "nbformat_minor": 0,
  "metadata": {
    "colab": {
      "provenance": [],
      "authorship_tag": "ABX9TyPUmbAm4jQXBZTKCMWI+0QS",
      "include_colab_link": true
    },
    "kernelspec": {
      "name": "python3",
      "display_name": "Python 3"
    },
    "language_info": {
      "name": "python"
    }
  },
  "cells": [
    {
      "cell_type": "markdown",
      "metadata": {
        "id": "view-in-github",
        "colab_type": "text"
      },
      "source": [
        "<a href=\"https://colab.research.google.com/github/rendirmnsyh/desain/blob/main/Copy_of_pertemuan_6.ipynb\" target=\"_parent\"><img src=\"https://colab.research.google.com/assets/colab-badge.svg\" alt=\"Open In Colab\"/></a>"
      ]
    },
    {
      "cell_type": "code",
      "execution_count": null,
      "metadata": {
        "colab": {
          "base_uri": "https://localhost:8080/"
        },
        "id": "Oz_BZsEdBgt-",
        "outputId": "e5e89fd5-0bc3-4f29-d941-14c19dc34aca"
      },
      "outputs": [
        {
          "output_type": "stream",
          "name": "stdout",
          "text": [
            "Fibonacci sequence:\n",
            "0\n",
            "1\n",
            "1\n",
            "2\n",
            "3\n",
            "5\n",
            "8\n",
            "13\n",
            "21\n",
            "34\n",
            "55\n",
            "89\n"
          ]
        }
      ],
      "source": [
        "# first two terms\n",
        "n1 , n2 = 0, 1\n",
        "count = 0\n",
        "\n",
        "# check if the number of terms is valid\n",
        "if nterms <= 0:\n",
        "  print(\"please enter a positve integer\")\n",
        "elif nterms == 1:\n",
        "  print(\"Fibonacci sequence upto\",nterms,\":\")\n",
        "  print(n1)\n",
        "else:\n",
        "  print(\"Fibonacci sequence:\")\n",
        "  while count < nterms:\n",
        "    print(n1)\n",
        "    nth = n1 + n2\n",
        "    # update values\n",
        "    n1 = n2\n",
        "    n2 = nth\n",
        "    count += 1\n"
      ]
    },
    {
      "cell_type": "code",
      "source": [
        "#Fibbonacci dengan while\n",
        "nterms = int(input(\"How many terms? \"))\n",
        "n1, n2 = 0, 1\n",
        "count = 0\n",
        "\n",
        "if nterms <= 0:\n",
        "  print(\"please enter a positive integer\")\n",
        "elif nterms == 1:\n",
        "  print(\"Fibonacci sequence upto \",nterms,\":\")\n",
        "  print(n1)\n",
        "else:\n",
        "  print(\"Fibonacci sequence:\")\n",
        "  while count < nterms:\n",
        "    print(n1)\n",
        "    nth = n1+n2\n",
        "    #update nilai\n",
        "    n1 = n2\n",
        "    n2 = nth\n",
        "    count += 1"
      ],
      "metadata": {
        "colab": {
          "base_uri": "https://localhost:8080/"
        },
        "id": "txVulYOCEPB3",
        "outputId": "07b61dcd-d48b-4bc7-c4d1-51437186a506"
      },
      "execution_count": null,
      "outputs": [
        {
          "output_type": "stream",
          "name": "stdout",
          "text": [
            "How many terms? 12\n",
            "Fibonacci sequence:\n",
            "0\n",
            "1\n",
            "1\n",
            "2\n",
            "3\n",
            "5\n",
            "8\n",
            "13\n",
            "21\n",
            "34\n",
            "55\n",
            "89\n"
          ]
        }
      ]
    },
    {
      "cell_type": "code",
      "source": [
        "#Fibonacci dengan rekursi\n",
        "\n",
        "def recur_fibo(n):\n",
        "  if n <= 1:\n",
        "    return n\n",
        "  else:\n",
        "     return(recur_fibo(n-1) + recur_fibo(n-2))\n",
        "\n",
        "nterms = 20\n",
        "\n",
        "# cek apakah nilai nterms valid\n",
        "if nterms <= 0:\n",
        "  print(\"please enter a positive integer\")\n",
        "else:\n",
        "  print(\"Fibonacci sequence:\")\n",
        "  for i in range(nterms):\n",
        "    print(recur_fibo(1))"
      ],
      "metadata": {
        "colab": {
          "base_uri": "https://localhost:8080/"
        },
        "id": "08KfB-3rGyOX",
        "outputId": "29ad65f2-5bb4-4f55-cf92-f7011ef494c0"
      },
      "execution_count": null,
      "outputs": [
        {
          "output_type": "stream",
          "name": "stdout",
          "text": [
            "Fibonacci sequence:\n",
            "1\n",
            "1\n",
            "1\n",
            "1\n",
            "1\n",
            "1\n",
            "1\n",
            "1\n",
            "1\n",
            "1\n",
            "1\n",
            "1\n",
            "1\n",
            "1\n",
            "1\n",
            "1\n",
            "1\n",
            "1\n",
            "1\n",
            "1\n"
          ]
        }
      ]
    },
    {
      "cell_type": "code",
      "source": [
        "import matplotlib\n",
        "import matplotlib.pyplot as plt\n",
        "import random\n",
        "import time\n",
        "import itertools"
      ],
      "metadata": {
        "id": "15hABclJGm8m"
      },
      "execution_count": null,
      "outputs": []
    },
    {
      "cell_type": "code",
      "source": [
        "#Try all tours (exact_TSP)\n",
        "def exact_TSP(cities):\n",
        "  \"Generate all possible tours of the cities and choose the shortest one.\"\n",
        "  return shortest(alltours(cities))\n",
        "\n",
        "def shortest(tours):\n",
        "  \"Return the tour with the minimum total distance.\"\n",
        "  return min(tours, key=total_distance)\n"
      ],
      "metadata": {
        "id": "42_dErXLUOSe"
      },
      "execution_count": null,
      "outputs": []
    },
    {
      "cell_type": "code",
      "source": [
        "#Representing Tours\n",
        "alltours = itertools.permutations # The permutation function is already defind in the itertools module\n",
        "\n",
        "cities = {1, 2, 3}\n",
        "\n",
        "list(alltours(cities))\n"
      ],
      "metadata": {
        "colab": {
          "base_uri": "https://localhost:8080/"
        },
        "id": "4XtddA8yHEgI",
        "outputId": "a165a568-3dfb-4bb4-f5e0-ed5dbb6f5486"
      },
      "execution_count": null,
      "outputs": [
        {
          "output_type": "execute_result",
          "data": {
            "text/plain": [
              "[(1, 2, 3), (1, 3, 2), (2, 1, 3), (2, 3, 1), (3, 1, 2), (3, 2, 1)]"
            ]
          },
          "metadata": {},
          "execution_count": 14
        }
      ]
    },
    {
      "cell_type": "code",
      "source": [
        "#Representing Cities and distance\n",
        "def total_distance(tour):\n",
        "  \"The total distance between each pair of counsecutive cities in the tour.\"\n",
        "  return sum(distance(tour[i], tour[i-1]) for i in range(len(tour)))"
      ],
      "metadata": {
        "id": "VmFAPxFtIu8w"
      },
      "execution_count": null,
      "outputs": []
    },
    {
      "cell_type": "code",
      "source": [
        "city = complex # Constructor for anew cities, e.g. ciy(300, 400)\n",
        "\n",
        "def distance(A, B):\n",
        "  \"The distance between two points.\"\n",
        "  return abs(A - B)"
      ],
      "metadata": {
        "id": "hJB3q7dTJnNB"
      },
      "execution_count": null,
      "outputs": []
    },
    {
      "cell_type": "code",
      "source": [
        "A = city(300,0)\n",
        "B = city(0, 400)\n",
        "distance(A, B)"
      ],
      "metadata": {
        "colab": {
          "base_uri": "https://localhost:8080/"
        },
        "id": "RFpUUmG5KAmH",
        "outputId": "46659057-e4d8-4a6c-f631-218a77597b2e"
      },
      "execution_count": null,
      "outputs": [
        {
          "output_type": "execute_result",
          "data": {
            "text/plain": [
              "500.0"
            ]
          },
          "metadata": {},
          "execution_count": 21
        }
      ]
    },
    {
      "cell_type": "code",
      "source": [
        "def cities(n):\n",
        "  \"Make a set of n cities, each with random coordinates.\"\n",
        "  return set(city(random.randrange(10, 890), random.randrange(10, 590)) for c in range (n))\n",
        "\n",
        "# let's make some standard sets of cities of various sizes.\n",
        "# we'll set the random seed so that these set are the same every time we run this notebook.\n",
        "random.seed('seed')\n",
        "cities8, cities10, cities100, cities1000 = cities(8), cities(10), cities(100), cities(1000)\n",
        "cities8"
      ],
      "metadata": {
        "colab": {
          "base_uri": "https://localhost:8080/"
        },
        "id": "roDNII7BKaDQ",
        "outputId": "d700ecba-353d-4a7c-93e3-c2436596c4b4"
      },
      "execution_count": null,
      "outputs": [
        {
          "output_type": "execute_result",
          "data": {
            "text/plain": [
              "{(151+70j),\n",
              " (252+365j),\n",
              " (303+506j),\n",
              " (498+96j),\n",
              " (54+361j),\n",
              " (551+542j),\n",
              " (684+435j),\n",
              " (800+430j)}"
            ]
          },
          "metadata": {},
          "execution_count": 29
        }
      ]
    },
    {
      "cell_type": "code",
      "source": [
        "tour = exact_TSP(cities8)\n",
        "\n",
        "print(tour)\n",
        "print(total_distance(tour))"
      ],
      "metadata": {
        "colab": {
          "base_uri": "https://localhost:8080/"
        },
        "id": "AKNzaWvzMFoC",
        "outputId": "a194a3d5-4d21-4f15-bca7-a68b2a5684b9"
      },
      "execution_count": null,
      "outputs": [
        {
          "output_type": "stream",
          "name": "stdout",
          "text": [
            "[(551+542j), (303+506j), (252+365j), (54+361j), (151+70j), (498+96j), (800+430j), (684+435j)]\n",
            "1990.388372313552\n"
          ]
        }
      ]
    },
    {
      "cell_type": "code",
      "source": [
        "#Try all Non-Reduntant Tours\n",
        "def alltours(cities):\n",
        "  \"Return a list of tours, each a permutation of cities, but each one starting with the same city.\"\n",
        "  start = first(cities)\n",
        "  return [[start] + list(tour)\n",
        "          for tour in itertools.permutations(cities - {start})]\n",
        "def first(collection):\n",
        "  \"start iterating over collection, and return the first element.\"\n",
        "  for x in collection: return x"
      ],
      "metadata": {
        "id": "zscrAQUCOMyi"
      },
      "execution_count": null,
      "outputs": []
    },
    {
      "cell_type": "code",
      "source": [
        "alltours({1, 2, 3})\n"
      ],
      "metadata": {
        "colab": {
          "base_uri": "https://localhost:8080/"
        },
        "id": "-KaLxPs8RPqL",
        "outputId": "914e89a0-18aa-4c32-8cda-8bc574044e6e"
      },
      "execution_count": null,
      "outputs": [
        {
          "output_type": "execute_result",
          "data": {
            "text/plain": [
              "[[1, 2, 3], [1, 3, 2]]"
            ]
          },
          "metadata": {},
          "execution_count": 33
        }
      ]
    },
    {
      "cell_type": "code",
      "source": [
        "alltours({1, 2, 3, 4})"
      ],
      "metadata": {
        "colab": {
          "base_uri": "https://localhost:8080/"
        },
        "id": "sPZwJFulRV-R",
        "outputId": "634bc4fb-330a-49a8-c020-4e1034d5f5c2"
      },
      "execution_count": null,
      "outputs": [
        {
          "output_type": "execute_result",
          "data": {
            "text/plain": [
              "[[1, 2, 3, 4],\n",
              " [1, 2, 4, 3],\n",
              " [1, 3, 2, 4],\n",
              " [1, 3, 4, 2],\n",
              " [1, 4, 2, 3],\n",
              " [1, 4, 3, 2]]"
            ]
          },
          "metadata": {},
          "execution_count": 34
        }
      ]
    },
    {
      "cell_type": "code",
      "source": [
        "tour = exact_TSP(cities8)\n",
        "\n",
        "print(tour)\n",
        "print(total_distance(tour))"
      ],
      "metadata": {
        "colab": {
          "base_uri": "https://localhost:8080/"
        },
        "id": "2X5m8RGVeJ6v",
        "outputId": "0bca6fe9-2248-4177-bc33-3935f77b58d3"
      },
      "execution_count": null,
      "outputs": [
        {
          "output_type": "stream",
          "name": "stdout",
          "text": [
            "[(551+542j), (303+506j), (252+365j), (54+361j), (151+70j), (498+96j), (800+430j), (684+435j)]\n",
            "1990.388372313552\n"
          ]
        }
      ]
    },
    {
      "cell_type": "code",
      "source": [
        "#plotting\n",
        "import time\n",
        "def plot_tour(algorithm, cities):\n",
        "  \"Apply a TSP algorithm to cities, and plot the resulting tour.\"\n",
        "  # Find the solution and time how long it takes\n",
        "  t0 = time.time()\n",
        "  tour = algorithm(cities)\n",
        "  t1 = time.time()\n",
        "  # plot the tour as blue lines between blue circles, and the starting city as red square.\n",
        "  plotline(list(tour) + [tour [0]])\n",
        "  plotline([tour[0]], 'rs')\n",
        "  plt.show()\n",
        "  print(\"{} city tour; total distance = {:.1f}; time = {:.3f} secs for {}\".format(\n",
        "        len(tour), total_distance(tour), t1-t0, algorithm.__name__))\n",
        "\n",
        "def plotline(points, style='bo-'):\n",
        "  \"Plot a list of points (complex numbers) in the 2-D plane.\"\n",
        "  X, Y = XY(points)\n",
        "  plt.plot(X, Y, style)\n",
        "\n",
        "def XY(points):\n",
        "  \"Given a list of points, return two lists: X coordinates, and Y coordinates.\"\n",
        "  return [p.real for p in points], [p.imag for p in points]\n",
        "\n",
        "plot_tour(exact_TSP, cities10)"
      ],
      "metadata": {
        "colab": {
          "base_uri": "https://localhost:8080/",
          "height": 447
        },
        "id": "WNz01xJwVK6L",
        "outputId": "57adf0d6-aaa3-4e2a-f143-df2f81b8fe29"
      },
      "execution_count": null,
      "outputs": [
        {
          "output_type": "display_data",
          "data": {
            "text/plain": [
              "<Figure size 640x480 with 1 Axes>"
            ],
            "image/png": "[encoded data removed]"
          },
          "metadata": {}
        },
        {
          "output_type": "stream",
          "name": "stdout",
          "text": [
            "10 city tour; total distance = 2050.3; time = 1.887 secs for exact_TSP\n"
          ]
        }
      ]
    },
    {
      "cell_type": "code",
      "source": [
        "#Greedy Nearest Neighbor (greedy_TSP)\n",
        "\n",
        "def greedy_TSP(cities):\n",
        "  \"At each step, visit the nearest neighbor that is still unvisited.\"\n",
        "  start = first(cities)\n",
        "  tour = [start]\n",
        "  unvisited = cities - {start}\n",
        "  while unvisited:\n",
        "    c = nearest_neighbor(tour[-1], unvisited)\n",
        "    tour.append(c)\n",
        "    unvisited.remove(c)\n",
        "  return tour\n",
        "\n",
        "def nearest_neighbor(A, cities):\n",
        "    \"Find the city in cities that is nearest to city A.\"\n",
        "    return min(cities, key=lambda x: distance(x, A))"
      ],
      "metadata": {
        "id": "znkJprwpbgmd"
      },
      "execution_count": null,
      "outputs": []
    },
    {
      "cell_type": "code",
      "source": [
        "cities = Cities(9)\n",
        "plot_tour(exact_TSP, cities)\n",
        "plot_tour(greedy_TSP, cities)"
      ],
      "metadata": {
        "colab": {
          "base_uri": "https://localhost:8080/",
          "height": 210
        },
        "id": "kwfiFTK7fvw_",
        "outputId": "00cd8c51-d523-46ae-8275-6d0c756cd77c"
      },
      "execution_count": null,
      "outputs": [
        {
          "output_type": "error",
          "ename": "NameError",
          "evalue": "ignored",
          "traceback": [
            "\u001b[0;31m---------------------------------------------------------------------------\u001b[0m",
            "\u001b[0;31mNameError\u001b[0m                                 Traceback (most recent call last)",
            "\u001b[0;32m<ipython-input-4-6d9a4d8b4d19>\u001b[0m in \u001b[0;36m<cell line: 1>\u001b[0;34m()\u001b[0m\n\u001b[0;32m----> 1\u001b[0;31m \u001b[0mcities\u001b[0m \u001b[0;34m=\u001b[0m \u001b[0mCities\u001b[0m\u001b[0;34m(\u001b[0m\u001b[0;36m9\u001b[0m\u001b[0;34m)\u001b[0m\u001b[0;34m\u001b[0m\u001b[0;34m\u001b[0m\u001b[0m\n\u001b[0m\u001b[1;32m      2\u001b[0m \u001b[0mplot_tour\u001b[0m\u001b[0;34m(\u001b[0m\u001b[0mexact_TSP\u001b[0m\u001b[0;34m,\u001b[0m \u001b[0mcities\u001b[0m\u001b[0;34m)\u001b[0m\u001b[0;34m\u001b[0m\u001b[0;34m\u001b[0m\u001b[0m\n\u001b[1;32m      3\u001b[0m \u001b[0mplot_tour\u001b[0m\u001b[0;34m(\u001b[0m\u001b[0mgreedy_TSP\u001b[0m\u001b[0;34m,\u001b[0m \u001b[0mcities\u001b[0m\u001b[0;34m)\u001b[0m\u001b[0;34m\u001b[0m\u001b[0;34m\u001b[0m\u001b[0m\n",
            "\u001b[0;31mNameError\u001b[0m: name 'Cities' is not defined"
          ]
        }
      ]
    },
    {
      "cell_type": "code",
      "source": [
        "plot_tour(greedy_TSP, cities100)\n",
        "plot_tour(greedy_TSP, cities1000)"
      ],
      "metadata": {
        "colab": {
          "base_uri": "https://localhost:8080/",
          "height": 193
        },
        "id": "c7WNK6OPm8Jo",
        "outputId": "37075d43-e949-489f-f7dc-9cdfc1347ace"
      },
      "execution_count": null,
      "outputs": [
        {
          "output_type": "error",
          "ename": "NameError",
          "evalue": "ignored",
          "traceback": [
            "\u001b[0;31m---------------------------------------------------------------------------\u001b[0m",
            "\u001b[0;31mNameError\u001b[0m                                 Traceback (most recent call last)",
            "\u001b[0;32m<ipython-input-3-7591e4dc366f>\u001b[0m in \u001b[0;36m<cell line: 1>\u001b[0;34m()\u001b[0m\n\u001b[0;32m----> 1\u001b[0;31m \u001b[0mplot_tour\u001b[0m\u001b[0;34m(\u001b[0m\u001b[0mgreedy_TSP\u001b[0m\u001b[0;34m,\u001b[0m \u001b[0mcities100\u001b[0m\u001b[0;34m)\u001b[0m\u001b[0;34m\u001b[0m\u001b[0;34m\u001b[0m\u001b[0m\n\u001b[0m\u001b[1;32m      2\u001b[0m \u001b[0mplot_tour\u001b[0m\u001b[0;34m(\u001b[0m\u001b[0mgreedy_TSP\u001b[0m\u001b[0;34m,\u001b[0m \u001b[0mcities1000\u001b[0m\u001b[0;34m)\u001b[0m\u001b[0;34m\u001b[0m\u001b[0;34m\u001b[0m\u001b[0m\n",
            "\u001b[0;31mNameError\u001b[0m: name 'plot_tour' is not defined"
          ]
        }
      ]
    }
  ]
}