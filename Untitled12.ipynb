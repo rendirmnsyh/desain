{
  "nbformat": 4,
  "nbformat_minor": 0,
  "metadata": {
    "colab": {
      "provenance": [],
      "authorship_tag": "ABX9TyOcH+quicAF00evV/IP5PRF",
      "include_colab_link": true
    },
    "kernelspec": {
      "name": "python3",
      "display_name": "Python 3"
    },
    "language_info": {
      "name": "python"
    }
  },
  "cells": [
    {
      "cell_type": "markdown",
      "metadata": {
        "id": "view-in-github",
        "colab_type": "text"
      },
      "source": [
        "<a href=\"https://colab.research.google.com/github/rendirmnsyh/desain/blob/main/Untitled12.ipynb\" target=\"_parent\"><img src=\"https://colab.research.google.com/assets/colab-badge.svg\" alt=\"Open In Colab\"/></a>"
      ]
    },
    {
      "cell_type": "code",
      "execution_count": 13,
      "metadata": {
        "colab": {
          "base_uri": "https://localhost:8080/"
        },
        "id": "VYsYWiWr0-cV",
        "outputId": "5baa3454-0c5c-4615-8af5-741e3fb48502"
      },
      "outputs": [
        {
          "output_type": "stream",
          "name": "stdout",
          "text": [
            "['john', 'Toronto', True]\n"
          ]
        }
      ],
      "source": [
        "aList = [\"john\",\"Toronto\",True]\n",
        "print(aList)"
      ]
    },
    {
      "cell_type": "code",
      "source": [
        "import datetime\n",
        "x =\n",
        "mahasiswa = [\"Rendi\",\"2022071074\",\"Informatika\",\"Desain Analis Aloritma\",\"x\",\"Universitas Pembangunan Jaya\"]\n",
        "print(mahasiswa)\n",
        "\n"
      ],
      "metadata": {
        "colab": {
          "base_uri": "https://localhost:8080/"
        },
        "id": "1u_79LaE33rJ",
        "outputId": "6a978c92-0d7c-408b-b8fa-2d97757f14bb"
      },
      "execution_count": 27,
      "outputs": [
        {
          "output_type": "stream",
          "name": "stdout",
          "text": [
            "['Rendi', '2022071074', 'Informatika', 'Desain Analis Aloritma', 'x', 'Universitas Pembangunan Jaya']\n"
          ]
        }
      ]
    }
  ]
}